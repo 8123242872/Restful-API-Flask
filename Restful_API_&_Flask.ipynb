{
  "nbformat": 4,
  "nbformat_minor": 0,
  "metadata": {
    "colab": {
      "provenance": []
    },
    "kernelspec": {
      "name": "python3",
      "display_name": "Python 3"
    },
    "language_info": {
      "name": "python"
    }
  },
  "cells": [
    {
      "cell_type": "markdown",
      "source": [
        "#Restful API & Flask"
      ],
      "metadata": {
        "id": "kIl7_4_k9iHr"
      }
    },
    {
      "cell_type": "code",
      "source": [
        "#1.What is a RESTful API?\n",
        "\"\"\"\n",
        "A RESTful API is an architectural style for designing networked applications. It uses HTTP methods (GET, POST, PUT, DELETE) to perform CRUD operations on resources identified by URIs. RESTful APIs are widely used for building scalable and maintainable web services.\n",
        "\"\"\""
      ],
      "metadata": {
        "id": "bd5kQ9Y09kXi"
      },
      "execution_count": null,
      "outputs": []
    },
    {
      "cell_type": "code",
      "source": [
        "#2.Explain the concept of API specification.\n",
        "\"\"\"\n",
        "An API specification defines the structure and behavior of an API. It includes details about the endpoints, request/response formats, authentication methods, and error handling. API specifications help developers understand how to interact with the API and ensure compatibility between clients and servers.\n",
        "\"\"\""
      ],
      "metadata": {
        "id": "_nvM-9_d92CR"
      },
      "execution_count": null,
      "outputs": []
    },
    {
      "cell_type": "code",
      "source": [
        "#3.What is Flask, and why is it popular for building APIs/\n",
        "\"\"\"\n",
        "Flask is a lightweight web framework for Python. It is popular for building APIs because it is easy to learn, flexible, and has a large community of developers. Flask provides tools for routing, handling requests, and integrating with databases, making it suitable for developing RESTful APIs.\n",
        "\"\"\""
      ],
      "metadata": {
        "id": "tfk7PSLw9-Hw"
      },
      "execution_count": null,
      "outputs": []
    },
    {
      "cell_type": "code",
      "source": [
        "#4.What is routing in Flask?\n",
        "\"\"\"\n",
        "Routing in Flask is the process of mapping URLs to specific functions in your application. It allows you to define different routes for different endpoints in your API, enabling you to handle different HTTP methods (GET, POST, PUT, DELETE) for each route.\n",
        "\"\"\""
      ],
      "metadata": {
        "id": "VsDz8gAq-HQI"
      },
      "execution_count": null,
      "outputs": []
    },
    {
      "cell_type": "code",
      "source": [
        "#5.How do you create a simple Flask application?\n",
        "\"\"\"\n",
        "To create a simple Flask application, you need to install Flask and create a Python script with the following code:\n",
        "\n",
        "from flask import Flask\n",
        "\n",
        "app = Flask(__name__)\n",
        "\"\"\""
      ],
      "metadata": {
        "id": "I8cQRpRY-O8A"
      },
      "execution_count": null,
      "outputs": []
    },
    {
      "cell_type": "code",
      "source": [
        "#6.What are HTTP methods used in RESTful APIs?\n",
        "\"\"\"\n",
        "HTTP methods used in RESTful APIs include GET (retrieve data), POST (create data), PUT (update data), DELETE (delete data), PATCH (partial update), and OPTIONS (describe communication options).\n",
        "\"\"\""
      ],
      "metadata": {
        "id": "V4TFcapf-cQw"
      },
      "execution_count": null,
      "outputs": []
    },
    {
      "cell_type": "code",
      "source": [
        "#7.What is the purpose of the @app.route() decorator in Flask?\n",
        "\"\"\"\n",
        "The @app.route() decorator in Flask is used to define routes for your application. It associates a specific URL pattern with a Python function, allowing you to handle requests to that URL.\n",
        "\"\"\""
      ],
      "metadata": {
        "id": "3NjTN252-q4A"
      },
      "execution_count": null,
      "outputs": []
    },
    {
      "cell_type": "code",
      "source": [
        "#8.What is the difference between GET and POST HTTP methods?\n",
        "\"\"\"\n",
        "GET retrieves data from the server, while POST sends data to the server to create or update resources. GET requests are idempotent (multiple identical requests have the same effect as a single request), while POST requests are not idempotent.\n",
        "\"\"\""
      ],
      "metadata": {
        "id": "IPwD3Zrl__Hp"
      },
      "execution_count": null,
      "outputs": []
    },
    {
      "cell_type": "code",
      "source": [
        "#9. How do you handle errors in Flask APIs?\n",
        "\"\"\"\n",
        "Errors in Flask APIs can be handled using error handlers. You can define custom error handlers using the @app.errorhandler() decorator to handle specific HTTP status codes or exceptions. For example:\n",
        "\n",
        "@app.errorhandler(404)\n",
        "def not_found(error):\n",
        "    return jsonify({'error': 'Not found'}), 404\n",
        "\"\"\""
      ],
      "metadata": {
        "id": "hsHMDIQDAGh3"
      },
      "execution_count": null,
      "outputs": []
    },
    {
      "cell_type": "code",
      "source": [
        "#10.How do you connect Flask to a SQL database?\n",
        "\"\"\"\n",
        "To connect Flask to a SQL database, you can use SQLAlchemy, a popular ORM (Object-Relational Mapping) library. SQLAlchemy provides an abstraction layer for interacting with databases, making it easier to work with SQL databases in Flask applications.\n",
        "\"\"\""
      ],
      "metadata": {
        "id": "cOq1aVQtAWCP"
      },
      "execution_count": null,
      "outputs": []
    },
    {
      "cell_type": "code",
      "source": [
        "#11.What is the role of Flask-SQLAlchemy?\n",
        "\"\"\"\n",
        "The role of Flask-SQLAlchemy is to provide a simple and powerful integration between Flask (a lightweight web framework for Python) and SQLAlchemy (a popular SQL toolkit and Object Relational Mapper, or ORM, for Python).\n",
        "Key Roles of Flask-SQLAlchemy:\n",
        "Database Connection Management\n",
        "It handles setting up and managing the database connection using configurations defined in the Flask app.\n",
        "\n",
        "Object-Relational Mapping (ORM)\n",
        "It allows you to define your database models using Python classes, making it easier to interact with your database using objects instead of writing raw SQL queries.\n",
        "\n",
        "Query Interface\n",
        "Provides a convenient, high-level API to query and manipulate the database using SQLAlchemy's ORM querying capabilities.\n",
        "\n",
        "Session Management\n",
        "Automatically manages SQLAlchemy sessions (unit of work), so you don’t have to manually open or close them in each request.\n",
        "\n",
        "Migration Compatibility\n",
        "Works seamlessly with Flask-Migrate or Alembic for managing database schema changes (migrations)\n",
        "\"\"\""
      ],
      "metadata": {
        "id": "uSXG_bpVAewv"
      },
      "execution_count": null,
      "outputs": []
    },
    {
      "cell_type": "code",
      "source": [
        "#12. What are Flask blueprints, and how are they useful?\n",
        "\"\"\"\n",
        "Flask blueprints are a way to organize your Flask application into reusable, modular components. They allow you to divide your application into smaller, more manageable pieces, each with its own set of routes, templates, and other resources. Blueprints help keep your codebase organized and maintainable, especially as your application grows in complexity. Here’s how they are useful:\n",
        "\n",
        "Modularization\n",
        "Blueprints allow you to divide your application into separate modules, each responsible for a specific set of functionalities. This makes it easier to manage and maintain the codebase.\n",
        "Modularity\n",
        "Organize code by feature (e.g., auth, blog, admin) instead of putting all routes in app.py.\n",
        "\n",
        "Reusability\n",
        "Blueprints can be reused across projects or duplicated with different configurations.\n",
        "\n",
        "Cleaner Codebase\n",
        "Makes large applications easier to manage, read, and maintain.\n",
        "\n",
        "Separation of Concerns\n",
        "Each blueprint can handle its own routing, error handling, and templates.\n",
        "\n",
        "Easy Collaboration\n",
        "Developers can work on different blueprints independently without conflicts.\n",
        "\"\"\""
      ],
      "metadata": {
        "id": "48YD8uCvA5-u"
      },
      "execution_count": null,
      "outputs": []
    },
    {
      "cell_type": "code",
      "source": [
        "#13.What is the purpose of Flask's request object?\n",
        "\"\"\"\n",
        "Flask's request object is used to access incoming request data in Flask applications. It provides access to request headers, form data, query parameters, cookies, and more. This object is crucial for handling user input and processing requests in Flask routes.\n",
        "\"\"\""
      ],
      "metadata": {
        "id": "X8v1XV_oBVJv"
      },
      "execution_count": null,
      "outputs": []
    },
    {
      "cell_type": "code",
      "source": [
        "#14.How do you create a RESTful API endpoint using Flask?\n",
        "\"\"\"\n",
        "To create a RESTful API endpoint using Flask, you define a route with the appropriate HTTP method (GET, POST, PUT, DELETE) and return a JSON response. For example:\n",
        "\n",
        "@app.route('/api/users', methods=['GET'])\n",
        "def get_users():\n",
        "    users = [{'id': 1, 'name': 'John Doe'}, {'id': 2, 'name': 'Jane Smith'}]\n",
        "    return jsonify(users)\n",
        "\"\"\""
      ],
      "metadata": {
        "id": "aaaZ89wfBdOP"
      },
      "execution_count": null,
      "outputs": []
    },
    {
      "cell_type": "code",
      "source": [
        "#15.What is the purpose of Flask's jsonify() function?\n",
        "\"\"\"\n",
        "Flask's jsonify() function is used to convert Python dictionaries or lists into JSON responses. It automatically serializes Python objects into JSON format, making it easy to return data from Flask routes as JSON responses to API clients.\n",
        "\"\"\""
      ],
      "metadata": {
        "id": "dNS4tykxBmWX"
      },
      "execution_count": null,
      "outputs": []
    },
    {
      "cell_type": "code",
      "source": [
        "#16.Explain Flask’s url_for() function.\n",
        "\"\"\"\n",
        " Flask's url_for() function is used for URL building. It generates URLs for specified endpoints in your application based on the endpoint name and any arguments passed to it. This function helps avoid hardcoding URLs in your templates or code, making your application more maintainable and flexible.\n",
        "\"\"\""
      ],
      "metadata": {
        "id": "nQaprvUXBuOu"
      },
      "execution_count": null,
      "outputs": []
    },
    {
      "cell_type": "code",
      "source": [
        "#17.How does Flask handle static files (CSS, JavaScript, etc.)?\n",
        "\"\"\"\n",
        "Flask handles static files by serving them from a predefined directory specified in the app.static_folder configuration variable. By default, Flask looks for static files in a folder named static located in the root directory of your application. You can access these files using URLs relative to the static folder.\n",
        "\"\"\""
      ],
      "metadata": {
        "id": "PqGdVO4MB3Tq"
      },
      "execution_count": null,
      "outputs": []
    },
    {
      "cell_type": "code",
      "source": [
        "#18.What is an API specification, and how does it help in building a Flask API?\n",
        "\"\"\"\n",
        " An API specification defines the structure and behavior of an API. It includes details about the endpoints, request/response formats, authentication methods, and error handling. API specifications help developers understand how to interact with the API and ensure compatibility between clients and servers.\n",
        "\"\"\""
      ],
      "metadata": {
        "id": "eD69N3SWB_U-"
      },
      "execution_count": null,
      "outputs": []
    },
    {
      "cell_type": "code",
      "source": [
        "#19.What are HTTP status codes, and why are they important in a Flask API?\n",
        "\"\"\"\n",
        "HTTP status codes indicate the outcome of an HTTP request. They are important in a Flask API because they provide feedback to clients about the success or failure of their requests. Common status codes include 200 (OK), 404 (Not Found), 400 (Bad Request), and 50 (Internal Server Error).\n",
        "\"\"\""
      ],
      "metadata": {
        "id": "7q8MSsTLCMVP"
      },
      "execution_count": null,
      "outputs": []
    },
    {
      "cell_type": "code",
      "source": [
        "#20.How do you handle POST requests in Flask?\n",
        "\"\"\"\n",
        "To handle POST requests in Flask, you define a route with the POST method and access the request data using request.form or request.json. For example:\n",
        "\n",
        "@app.route('/api/users', methods=['POST'])\n",
        "def create_user():\n",
        "    data = request.json    # Assuming JSON data is sent in the request body\n",
        "    # Process the data and create a new user\n",
        "    return jsonify({'message': 'User created successfully'}), 201\n",
        "\"\"\""
      ],
      "metadata": {
        "id": "C7rnnx2CCXFT"
      },
      "execution_count": null,
      "outputs": []
    },
    {
      "cell_type": "code",
      "source": [
        "#21.How would you secure a Flask API?\n",
        "\"\"\"\n",
        "To secure a Flask API, you can implement authentication and authorization mechanisms. Common approaches include using JWT (JSON Web Tokens) for authentication and RBAC (Role-Based Access Control) for authorization. Additionally, you can protect your API against common vulnerabilities like SQL injection and cross-site scripting (XSS) attacks. You can also use HTTPS to encrypt communication between clients and servers.\n",
        "\"\"\""
      ],
      "metadata": {
        "id": "rX4NDz_vCm6p"
      },
      "execution_count": null,
      "outputs": []
    },
    {
      "cell_type": "code",
      "source": [
        "#22.What is the significance of the Flask-RESTful extension?\n",
        "\"\"\"\n",
        "The Flask-RESTful extension simplifies the process of building RESTful APIs with Flask. It provides tools and abstractions that make it easier and cleaner to define API endpoints, handle HTTP methods, and structure responses.\n",
        " Significance of Flask-RESTful\n",
        " 1.Simplified Resource-Based Routing\n",
        "   Instead of manually checking HTTP methods (e.g., if request.method == 'GET'), you define them as methods on a Resource class:\n",
        "   class HelloWorld(Resource):\n",
        "    def get(self):\n",
        "        return {'hello': 'world'}\n",
        "  2.Cleaner Code & Structure\n",
        "    Encourages organizing your API as a collection of resources (e.g., User, Post) rather than scattered functions.\n",
        "  3.Request Parsing with reqparse\n",
        "    Built-in request parsing and validation via reqparse, making input handling safer and more consistent\n",
        "  4.Built-in HTTP Status Codes and Responses\n",
        "    Easily return responses with custom status codes, headers, and JSON formatting.\n",
        "  5.Better Error Handling\n",
        "    Offers a centralized way to handle and format errors in API responses.\n",
        "\n",
        "  6.Integration-Friendly\n",
        "    Works well with other Flask extensions like Flask-SQLAlchemy or Flask-JWT.\n",
        "\"\"\""
      ],
      "metadata": {
        "id": "g8LcWb30C0N3"
      },
      "execution_count": null,
      "outputs": []
    },
    {
      "cell_type": "code",
      "source": [
        "#23.What is the role of Flask’s session object?\n",
        "\"\"\"\n",
        " Flask's session object is used to store user-specific data across requests. It allows you to maintain state between requests, such as storing authentication tokens, user preferences, or cart contents. The session object is useful for implementing features like user authentication, session management, and personalized experiences in Flask applications.\n",
        "\"\"\""
      ],
      "metadata": {
        "id": "D4SaFb5sEAXm"
      },
      "execution_count": null,
      "outputs": []
    },
    {
      "cell_type": "markdown",
      "source": [
        "#Practical"
      ],
      "metadata": {
        "id": "ht4D_vOwEPme"
      }
    },
    {
      "cell_type": "code",
      "source": [
        "#1.How do you create a basic Flask application?\n",
        "#Step-by-Step: Creating a Basic Flask App\n",
        "#1. Install Flask\n",
        " pip install Flask\n",
        "#2. Create the Application File\n",
        "#Create a file named app.py (or any name you prefer):\n",
        "from flask import Flask\n",
        "\n",
        "app = Flask(__name__)  # Create the Flask app instance\n",
        "\n",
        "@app.route('/')  # Define the route for the home page\n",
        "def home():\n",
        "    return \"Hello, Flask!\"  # Return a response\n",
        "\n",
        "if __name__ == '__main__':\n",
        "    app.run(debug=True)  # Run the development server\n",
        "#3. Run the App\n",
        "#In terminal, navigate to the directory containing app.py and run:\n",
        "  python app.py\n",
        "\n"
      ],
      "metadata": {
        "id": "nV0AkL8xERE-"
      },
      "execution_count": null,
      "outputs": []
    },
    {
      "cell_type": "code",
      "source": [
        "#2.How do you serve static files like images or CSS in Flask?\n",
        "#1. Project Structure Example\n",
        "your_project/\n",
        "│\n",
        "├── app.py\n",
        "├── static/\n",
        "│   ├── style.css\n",
        "│   └── logo.png\n",
        "└── templates/\n",
        "    └── index.html\n",
        "#2. Using Static Files in HTML\n",
        "#In HTML templates (e.g., index.html), use Flask’s url_for() to generate the correct path:\n",
        "<!DOCTYPE html>\n",
        "<html>\n",
        "<head>\n",
        "    <link rel=\"stylesheet\" href=\"{{ url_for('static', filename='style.css') }}\">\n",
        "</head>\n",
        "<body>\n",
        "    <h1>Hello Flask</h1>\n",
        "    <img src=\"{{ url_for('static', filename='logo.png') }}\" alt=\"Logo\">\n",
        "</body>\n",
        "</html>\n",
        "\n",
        "#3. Minimal app.py Example\n",
        "from flask import Flask, render_template\n",
        "\n",
        "app = Flask(__name__)\n",
        "\n",
        "@app.route('/')\n",
        "def home():\n",
        "    return render_template('index.html')\n",
        "\n",
        "if __name__ == '__main__':\n",
        "    app.run(debug=True)\n"
      ],
      "metadata": {
        "id": "H-EdwwMSFJjG"
      },
      "execution_count": null,
      "outputs": []
    },
    {
      "cell_type": "code",
      "source": [
        "#3. How do you define different routes with different HTTP methods in Flask?\n",
        "#. Basic Syntax\n",
        "  @app.route('/route_path', methods=['GET', 'POST', 'PUT', 'DELETE'])\n",
        "def function_name():\n",
        "    # logic here\n",
        "# Example: Different Routes and Methods\n",
        " from flask import Flask, request\n",
        "\n",
        "app = Flask(__name__)\n",
        "\n",
        "@app.route('/', methods=['GET'])\n",
        "def home():\n",
        "    return \"This is a GET request.\"\n",
        "\n",
        "@app.route('/submit', methods=['POST'])\n",
        "def submit():\n",
        "    name = request.form.get('name')\n",
        "    return f\"Hello, {name}! (POST)\"\n",
        "\n",
        "@app.route('/update', methods=['PUT'])\n",
        "def update():\n",
        "    return \"Received a PUT request.\"\n",
        "\n",
        "@app.route('/remove', methods=['DELETE'])\n",
        "def delete():\n",
        "    return \"Received a DELETE request.\"\n",
        "\n",
        "if __name__ == '__main__':\n",
        "    app.run(debug=True)\n"
      ],
      "metadata": {
        "id": "Pg4YTqHzGErN"
      },
      "execution_count": null,
      "outputs": []
    },
    {
      "cell_type": "code",
      "source": [
        "#4.How do you render HTML templates in Flask?\n",
        "#1. Project Structure Example\n",
        "your_project/\n",
        "│\n",
        "├── app.py\n",
        "└── templates/\n",
        "    └── index.html\n",
        "#2. Create an HTML Template: templates/index.html\n",
        "<!DOCTYPE html>\n",
        "<html>\n",
        "<head>\n",
        "    <title>Flask Template</title>\n",
        "</head>\n",
        "<body>\n",
        "    <h1>Hello, {{ name }}!</h1>\n",
        "</body>\n",
        "</html>\n",
        "#3. Flask App: app.py\n",
        "from flask import Flask, render_template\n",
        "\n",
        "app = Flask(__name__)\n",
        "\n",
        "@app.route('/')\n",
        "def home():\n",
        "    return render_template('index.html', name='Flask')\n",
        "\n",
        "if __name__ == '__main__':\n",
        "    app.run(debug=True)\n"
      ],
      "metadata": {
        "id": "WCjU8N3dIDFF"
      },
      "execution_count": null,
      "outputs": []
    },
    {
      "cell_type": "code",
      "source": [
        "#5.How can you generate URLs for routes in Flask using url_for?\n",
        " from flask import Flask, url_for\n",
        "\n",
        "app = Flask(__name__)\n",
        "\n",
        "@app.route('/') def home():\n",
        "    return 'Home Page'"
      ],
      "metadata": {
        "id": "157gxncKcetE"
      },
      "execution_count": null,
      "outputs": []
    },
    {
      "cell_type": "code",
      "source": [
        "#6.How do you handle forms in Flask?\n",
        " from flask import Flask, request, render_template\n",
        "\n",
        "app = Flask(__name__)\n",
        "\n",
        "@app.route('/form', methods=['GET', 'POST']) def form():\n",
        "    if request.method == 'POST':\n",
        "        name = request.form['name']\n",
        "        email = request.form['email']\n",
        "        return f'Hello, {name}! Your email is {email}.'\n",
        "        return render_template('form.html')\n",
        "\n",
        "if __name__ == '__main__':\n",
        "    app.run(debug=True)\n",
        ""
      ],
      "metadata": {
        "id": "EmpHG2pUcqhM"
      },
      "execution_count": null,
      "outputs": []
    },
    {
      "cell_type": "code",
      "source": [
        "#7.How can you validate form data in Flask?\n",
        "  #1. Install Flask-WTF\n",
        "  pip install flask-wtf\n",
        "#2. Create a Form Class\n",
        "from flask_wtf import FlaskForm\n",
        "from wtforms import StringField, SubmitField\n",
        "from wtforms.validators import DataRequired, Length\n",
        "\n",
        "class NameForm(FlaskForm):\n",
        "    name = StringField('Name', validators=[DataRequired(), Length(min=2, max=50)])\n",
        "    submit = SubmitField('Submit')\n",
        "#3. Use the Form in Your Route\n",
        "from flask import Flask, render_template, redirect, url_for\n",
        "from forms import NameForm  # assuming form is in forms.py\n",
        "\n",
        "app = Flask(__name__)\n",
        "app.secret_key = 'your-secret-key'  # Required for CSRF protection\n",
        "\n",
        "@app.route('/', methods=['GET', 'POST'])\n",
        "def index():\n",
        "    form = NameForm()\n",
        "    if form.validate_on_submit():\n",
        "        name = form.name.data\n",
        "        return f\"Hello, {name}!\"\n",
        "    return render_template('form.html', form=form)\n",
        "#4. HTML Template (templates/form.html)\n",
        "<form method=\"POST\">\n",
        "    {{ form.hidden_tag() }}\n",
        "    {{ form.name.label }} {{ form.name(size=20) }}<br>\n",
        "    {% for error in form.name.errors %}\n",
        "        <span style=\"color: red;\">[{{ error }}]</span>\n",
        "    {% endfor %}\n",
        "    {{ form.submit() }}\n",
        "</form>\n"
      ],
      "metadata": {
        "id": "Dgs0p6z1c5_L"
      },
      "execution_count": null,
      "outputs": []
    },
    {
      "cell_type": "code",
      "source": [
        "#8.How do you manage sessions in Flask?\n",
        " from flask import Flask, session, redirect, url_for\n",
        "\n",
        "app = Flask(__name__)\n",
        "app.secret_key = 'your-secret-key'  # Required for session management\n",
        "@app.route('/login', methods=['POST'])\n",
        "def login():\n",
        "    username = request.form['username']\n",
        "    session['username'] = username\n",
        "    return redirect(url_for('dashboard'))\n",
        "    @app.route('/dashboard')\n",
        "def dashboard():\n",
        "    if 'username' in session:\n",
        "        return f'Welcome, {session[\"username\"]}!'\n",
        "    return 'Please log in.'"
      ],
      "metadata": {
        "id": "qCElJ8tGdiWi"
      },
      "execution_count": null,
      "outputs": []
    },
    {
      "cell_type": "code",
      "source": [
        "#9.How do you redirect to a different route in Flask?\n",
        " from flask import Flask, redirect, url_for\n",
        "\n",
        "app = Flask(__name__)\n",
        "\n",
        "@app.route('/login')\n",
        "def login():\n",
        "    return redirect(url_for('dashboard'))\n",
        "    @app.route('/dashboard')\n",
        "def dashboard():\n",
        "    return 'Dashboard Page'"
      ],
      "metadata": {
        "id": "FhAeZJqQdyik"
      },
      "execution_count": null,
      "outputs": []
    },
    {
      "cell_type": "code",
      "source": [
        "#10.How do you handle errors in Flask (e.g., 404)?\n",
        " from flask import Flask, render_template\n",
        "\n",
        "app = Flask(__name__)\n",
        "\n",
        "@app.errorhandler(404)\n",
        "def page_not_found(e):\n",
        "    return render_template('404.html'), 404\n"
      ],
      "metadata": {
        "id": "C2qu39Fdd9OL"
      },
      "execution_count": null,
      "outputs": []
    },
    {
      "cell_type": "code",
      "source": [
        "#11.How do you structure a Flask app using Blueprints?\n",
        "your_app/\n",
        "│\n",
        "├── app.py                # Main application entry point\n",
        "├── __init__.py           # App factory (optional for larger apps)\n",
        "├── auth/\n",
        "│   ├── __init__.py       # Registers the blueprint\n",
        "│   └── routes.py         # Auth-related routes\n",
        "├── blog/\n",
        "│   ├── __init__.py\n",
        "│   └── routes.py\n",
        "└── templates/\n",
        "    ├── auth/\n",
        "    │   └── login.html\n",
        "    └── blog/\n",
        "        └── index.html\n",
        "# 1. Define a Blueprint (auth/routes.py)\n",
        "from flask import Blueprint, render_template\n",
        "\n",
        "auth_bp = Blueprint('auth', __name__, url_prefix='/auth')\n",
        "\n",
        "@auth_bp.route('/login')\n",
        "def login():\n",
        "    return render_template('auth/login.html')\n",
        "# 2. Initialize the Blueprint (auth/__init__.py)\n",
        "from .routes import auth_bp\n",
        "#3. Register the Blueprint in Your Main App (app.py)\n",
        "from flask import Flask\n",
        "from auth.routes import auth_bp\n",
        "from blog.routes import blog_bp\n",
        "\n",
        "app = Flask(__name__)\n",
        "\n",
        "# Register blueprints\n",
        "app.register_blueprint(auth_bp)\n",
        "app.register_blueprint(blog_bp)\n",
        "\n",
        "@app.route('/')\n",
        "def home():\n",
        "    return \"Main Home Page\"\n",
        "\n",
        "if __name__ == '__main__':\n",
        "    app.run(debug=True)\n"
      ],
      "metadata": {
        "id": "kQi4LtzneSJt"
      },
      "execution_count": null,
      "outputs": []
    },
    {
      "cell_type": "code",
      "source": [
        "#12.How do you define a custom Jinja filter in Flask?\n",
        "#Method 1: Using @app.template_filter Decorator\n",
        "from flask import Flask\n",
        "\n",
        "app = Flask(__name__)\n",
        "\n",
        "@app.template_filter('reverse')\n",
        "def reverse_string(s):\n",
        "    return s[::-1]\n",
        "\n",
        "    {{ \"hello\" | reverse }}  <!-- Output: \"olleh\" -->\n",
        "\n",
        "# Method 2: Manual Registration\n",
        "def shout(s):\n",
        "    return s.upper() + \"!!!\"\n",
        "\n",
        "app.jinja_env.filters['shout'] = shout\n",
        "\n",
        "{{ \"flask\" | shout }}  <!-- Output: \"FLASK!!!\" -->\n"
      ],
      "metadata": {
        "id": "rfVI54PpezmP"
      },
      "execution_count": null,
      "outputs": []
    },
    {
      "cell_type": "code",
      "source": [
        "#13.How can you redirect with query parameters in Flask?\n",
        " from flask import Flask, redirect, url_for\n",
        "\n",
        "app = Flask(__name__)\n",
        "\n",
        "@app.route('/redirect')\n",
        "def redirect_with_query():\n",
        "    return redirect(url_for('destination', name='John', age=30))\n",
        "\n",
        "@app.route('/destination')\n",
        "def destination():\n",
        "\n",
        "\n",
        ""
      ],
      "metadata": {
        "id": "1drcFjZhfX7K"
      },
      "execution_count": null,
      "outputs": []
    },
    {
      "cell_type": "code",
      "source": [
        "#14.How do you return JSON responses in Flask?\n",
        "   #1. Using jsonify()\n",
        "   from flask import Flask, jsonify\n",
        "\n",
        "app = Flask(__name__)\n",
        "\n",
        "@app.route('/api/data')\n",
        "def get_data():\n",
        "    data = {'name': 'Flask', 'version': '2.3'}\n",
        "    return jsonify(data)\n",
        "#2. Manual JSON Response (For More Control)\n",
        "from flask import Flask, Response\n",
        "import json\n",
        "\n",
        "app = Flask(__name__)\n",
        "\n",
        "@app.route('/api/manual')\n",
        "def manual_json():\n",
        "    data = {'status': 'ok'}\n",
        "    response = Response(json.dumps(data), content_type='application/json')\n",
        "    return response\n"
      ],
      "metadata": {
        "id": "chuXXks4fjRa"
      },
      "execution_count": null,
      "outputs": []
    },
    {
      "cell_type": "code",
      "source": [
        "#15.How do you capture URL parameters in Flask?\n",
        " from flask import Flask, request\n",
        "\n",
        "app = Flask(__name__)\n",
        "\n",
        "@app.route('/user/<username>') def user_profile(username):\n",
        "    return f'User profile for {username}'\n",
        "\n",
        "@app.route('/post/<int:post_id>') def post_detail(post_id):\n",
        "    return f'Post ID: {post_id}'\n",
        "    @app.route('/product/<float:price>')\n",
        "def product_price(price):\n",
        "    return f'Product price: ${price:.2f}'\n",
        "\n",
        ""
      ],
      "metadata": {
        "id": "nNwR9NnugHGb"
      },
      "execution_count": null,
      "outputs": []
    }
  ]
}